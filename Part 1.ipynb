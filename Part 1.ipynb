{
 "cells": [
  {
   "cell_type": "markdown",
   "id": "a5919b30",
   "metadata": {},
   "source": [
    "<h5>Введение</h5>\n",
    "\n",
    "Данный ноутбук разработан для прохождения учениками практических заданий из курса Основы статистики 2 часть Карпова на Stepik.\n",
    "\n",
    "<h5>Cсылка на курс Stepik:</h5>\n",
    "\n",
    "https://stepik.org/524\n",
    "\n",
    "\n",
    "Оригинальные задания курса предполагают написание кода на R, поэтому после успешного прохождения задания на Python данная тестирующая система предоставит код на R для дальнейшей вставки в тестирующую систему на Stepik.\n",
    "Таким образом, можно синхронизировать прогресс выполнения и получать баллы на курсе Stepik не изучая специально R.\n",
    "\n",
    "\n",
    "<h5>Как проходить задания:</h5>\n",
    "\n",
    "- Читаем задание шага\n",
    "\n",
    "- Пишем ваше решение в специальную заготовку функции (обратите внимание на форматы ввода/вывода). Запускаем ячейку. \n",
    "\n",
    "- Запускаем тестирующий блок для проверки вашего решения\n",
    "\n",
    "После успешного прохождения теста, выводится код на R для вставки в систему Stepik."
   ]
  },
  {
   "cell_type": "markdown",
   "id": "bca37dd5",
   "metadata": {},
   "source": [
    "------------------"
   ]
  },
  {
   "cell_type": "markdown",
   "id": "dd41ba88",
   "metadata": {},
   "source": [
    "<h2>Практический блок 1:</h2>\n",
    "\n",
    "<h5>Анализ номинативных данных</h5>\n",
    "\n",
    "https://stepik.org/lesson/26186/step/1?unit=8128\n"
   ]
  },
  {
   "cell_type": "markdown",
   "id": "40c5b655",
   "metadata": {},
   "source": [
    "___________"
   ]
  },
  {
   "cell_type": "code",
   "execution_count": 1,
   "id": "2982eaca",
   "metadata": {},
   "outputs": [],
   "source": [
    "# Импортируйте библиотеки\n",
    "import pandas as pd\n",
    "import numpy as np\n",
    "import math\n",
    "import io\n",
    "import pickle\n",
    "import seaborn as sns\n",
    "\n",
    "from matplotlib import pyplot as plt\n",
    "\n",
    "from Part1 import Test  # тестирующие функции для 1 части практики\n",
    "\n",
    "from PIL import Image\n",
    "from scipy import stats\n",
    "from sklearn.datasets import load_iris\n",
    "from typing import Union"
   ]
  },
  {
   "cell_type": "markdown",
   "id": "24a4391c",
   "metadata": {},
   "source": [
    "------------"
   ]
  },
  {
   "cell_type": "markdown",
   "id": "109bd7b1",
   "metadata": {},
   "source": [
    "__________"
   ]
  },
  {
   "cell_type": "markdown",
   "id": "d1204560",
   "metadata": {},
   "source": [
    "<h5>Задание 1:</h5>\n",
    "Ссылка на степ:\n",
    "\n",
    "https://stepik.org/lesson/26186/step/2?unit=8128"
   ]
  },
  {
   "cell_type": "markdown",
   "id": "24033a29",
   "metadata": {},
   "source": [
    "> Напишите функцию NA_position, которая получает на вход два числовых вектора одинаковой длины. \n",
    "\n",
    "> Функция должна возвращать TRUE, если позиции NA в обоих векторах совпадают или пропущенных значений вообще нет, и значение FALSE, если позиции NA в векторах не совпадают.\n",
    "\n",
    "<b>Входные данные:\n",
    "- pandas DataFrame с 2мя колонками\n",
    "- 'NA' строковая str\n",
    "\n",
    "<b>Выходные данные:\n",
    " - Булево значение проверки (bool)"
   ]
  },
  {
   "cell_type": "code",
   "execution_count": 32,
   "id": "1a338849",
   "metadata": {},
   "outputs": [],
   "source": [
    "# Ваш код python для задания 1\n",
    "\n",
    "def NA_position(data:pd.DataFrame) -> bool:\n",
    "    '''Ваш код Python для задания 1'''\n",
    "    return bool"
   ]
  },
  {
   "cell_type": "code",
   "execution_count": 33,
   "id": "77cd1096",
   "metadata": {},
   "outputs": [
    {
     "name": "stdout",
     "output_type": "stream",
     "text": [
      "Тест 1 не пройден\n",
      "{0: [1], 1: [2]}\n",
      "Тесты задания 1.01 не пройдены\n"
     ]
    }
   ],
   "source": [
    "# Тесты Вашего решения, просто запустите ячейку\n",
    "\n",
    "test_1_01 = Test('1.01')\n",
    "print(test_1_01(NA_position))"
   ]
  },
  {
   "cell_type": "markdown",
   "id": "754a4691",
   "metadata": {},
   "source": [
    "------"
   ]
  },
  {
   "cell_type": "markdown",
   "id": "7c21ac35",
   "metadata": {},
   "source": [
    "---------"
   ]
  },
  {
   "cell_type": "markdown",
   "id": "1192a3ef",
   "metadata": {},
   "source": [
    "<h5>Задание 2:</h5>\n",
    "Ссылка на степ:\n",
    "\n",
    "https://stepik.org/lesson/26186/step/3?unit=8128"
   ]
  },
  {
   "cell_type": "markdown",
   "id": "61377b0a",
   "metadata": {},
   "source": [
    "> Напишите функцию smart_test, которая получает на вход dataframe с двумя номинативными переменными с произвольным числом градаций. Функция должна проверять гипотезу о независимости этих двух переменных при помощи критерия хи - квадрат или точного критерия Фишера.\n",
    "\n",
    "> Если хотя бы в одной ячейке таблицы сопряженности двух переменных меньше 5 наблюдений, функция должна рассчитывать точный критерий Фишера и возвращать вектор из одного элемента: получившегося p - уровня значимости.\n",
    "\n",
    "> Если наблюдений достаточно для расчета хи-квадрат (во всех ячейках больше либо равно 5 наблюдений), тогда функция должна применять критерий хи-квадрат и возвращать вектор из трех элементов: значение хи-квадрат, число степеней свободы,  p-уровня значимости.\n",
    "\n",
    "<h5>Внимание: </h5>\n",
    "\n",
    "> В статистическом пакете scipy нельзя рассчитать точный критерий фишера для таблиц сопряженности отличных от 2х2. При этом в R такой критерий рассчитать можно (и тесты степик на R это проверяют). \n",
    "\n",
    "> Для прохождения тестов на Python в случае тест Фишера -> Степень свободы != 1 -> возрватите значение pvalue по критерию chi^2\n",
    "\n",
    "\n",
    "\n",
    "<b>Входные данные:\n",
    "\n",
    "- pandas DataFrame с 2-мя номинативными переменными с произвольным числом градаций\n",
    "\n",
    "<b>Выходные данные:\n",
    "\n",
    " - Кортеж tuple из 3 значений (значение хи-квадрат, число степеней свободы,  p-уровня значимости.) Для случая N >= 5\n",
    " - Значение float pvalue для случая N <= 5"
   ]
  },
  {
   "cell_type": "code",
   "execution_count": 34,
   "id": "f06b300a",
   "metadata": {},
   "outputs": [],
   "source": [
    "# Ваш код Python для задания 2\n",
    "\n",
    "def smart_test(x: pd.DataFrame) -> Union[float, tuple]:\n",
    "    '''Ваш код Python для задания 2'''\n",
    "    return tuple\n",
    "    "
   ]
  },
  {
   "cell_type": "code",
   "execution_count": 35,
   "id": "2b18396c",
   "metadata": {},
   "outputs": [
    {
     "name": "stdout",
     "output_type": "stream",
     "text": [
      "Тест 1 не пройден\n",
      "{0: [0, 1, 1, 1, 0, 0, 0, 1], 1: [0, 0, 0, 0, 1, 1, 1, 1]}\n",
      "Тесты задания 1.02 не пройдены\n"
     ]
    }
   ],
   "source": [
    "# Тесты Вашего решения, просто запустите ячейку\n",
    "\n",
    "test_1_02 = Test('1.02')\n",
    "print(test_1_02(smart_test))"
   ]
  },
  {
   "cell_type": "markdown",
   "id": "65f3a3e7",
   "metadata": {},
   "source": [
    "----"
   ]
  },
  {
   "cell_type": "markdown",
   "id": "f6e302ae",
   "metadata": {},
   "source": [
    "----"
   ]
  },
  {
   "cell_type": "markdown",
   "id": "8ae1d82f",
   "metadata": {},
   "source": [
    "<h5>Задание 3:</h5>\n",
    "Ссылка на степ:\n",
    "\n",
    "https://stepik.org/lesson/26186/step/4?unit=8128"
   ]
  },
  {
   "cell_type": "markdown",
   "id": "59bc91f3",
   "metadata": {},
   "source": [
    "Почувствуй себя биоинформатиком!  Вся наследственная информация в живых организмах хранится внутри молекулы ДНК. Эта молекула состоит из последовательности четырех \"букв\" — A, T, G и C. \n",
    "\n",
    "> Напишите функцию most_significant, которая получает на вход dataframe с произвольным количеством переменных, где каждая переменная это нуклеотидная последовательность.\n",
    "\n",
    "> Для каждой переменной мы можем проверить нулевую гипотезу о том, что все нуклеотиды (A, T, G, C) встречаются равновероятно внутри этой последовательности. Однако, возможно, что в некоторых последовательностях распределение частоты встречаемости каждого нуклеотида отличается от равномерного.\n",
    "\n",
    "> Функция должна возвращать список с названием переменной (или переменных), в которой был получен минимальный p - уровень значимости при проверке гипотезы о равномерном распределении нуклеотидов при помощи критерия хи - квадрат.\n",
    "\n",
    "<b>Входные данные:\n",
    "\n",
    "- pandas DataFrame с произвольным количеством переменных с произвольным где каждая переменная это нуклеотидная последовательность.\n",
    "\n",
    "<b>Выходные данные:\n",
    "\n",
    " - Список list с названием переменной (или переменных), в которой был получен минимальный p - уровень значимости"
   ]
  },
  {
   "cell_type": "code",
   "execution_count": 36,
   "id": "e9dcdfc7",
   "metadata": {},
   "outputs": [],
   "source": [
    "# Ваш код Python для задания 3\n",
    "\n",
    "def most_significant(data: pd.DataFrame) -> list:\n",
    "    '''Ваш код Python для задания 3'''\n",
    "    return list"
   ]
  },
  {
   "cell_type": "code",
   "execution_count": 37,
   "id": "516677c6",
   "metadata": {},
   "outputs": [
    {
     "name": "stdout",
     "output_type": "stream",
     "text": [
      "Тест 1 не пройден\n",
      "{'V1': ('A', 'G', 'C', 'T', 'G', 'T'), 'V2': ('A', 'G', 'C', 'T', 'T', 'A'), 'V3': ('C', 'A', 'C', 'A', 'T', 'G')}\n",
      "Тесты задания 1.03 не пройдены\n"
     ]
    }
   ],
   "source": [
    "# Тесты Вашего решения, просто запустите ячейку\n",
    "\n",
    "test_1_03 = Test('1.03')\n",
    "print(test_1_03(most_significant))"
   ]
  },
  {
   "cell_type": "markdown",
   "id": "88c24852",
   "metadata": {},
   "source": [
    "-----"
   ]
  },
  {
   "cell_type": "markdown",
   "id": "20d3d6a7",
   "metadata": {},
   "source": [
    "---"
   ]
  },
  {
   "cell_type": "markdown",
   "id": "680c86a6",
   "metadata": {},
   "source": [
    "<h5>Задание 4:</h5>\n",
    "\n",
    "Ссылка на степ:\n",
    "\n",
    "https://stepik.org/lesson/26186/step/5?unit=8128"
   ]
  },
  {
   "cell_type": "markdown",
   "id": "9943db83",
   "metadata": {},
   "source": [
    "> В датасете Iris создайте переменную important_cases на основе существующих, таким образом, что если хотя-бы 3 существующие переменные больше среднего значения по соовтетствующей колонке, то important_cases = 'Yes', иначе 'No'.\n",
    "\n",
    "> Функция должна возрващать измененный фрейм с новой переменной important_cases\n",
    "\n",
    "<b>Входные данные:\n",
    "\n",
    "- pandas DataFrame\n",
    "\n",
    "<b>Выходные данные:\n",
    "\n",
    " - список list значений новой переменной important_cases"
   ]
  },
  {
   "cell_type": "code",
   "execution_count": 8,
   "id": "a3705da4",
   "metadata": {},
   "outputs": [],
   "source": [
    "# Загрузка данных\n",
    "\n",
    "load = load_iris()\n",
    "iris = pd.DataFrame(data=load.data, columns=load.feature_names)"
   ]
  },
  {
   "cell_type": "code",
   "execution_count": 38,
   "id": "902a29cb",
   "metadata": {},
   "outputs": [],
   "source": [
    "# Ваш код Python для задания 4\n",
    "\n",
    "def new_iris_factor(data: pd.DataFrame) -> list:\n",
    "    '''Тут ваш код Python для задания 4'''\n",
    "    return list"
   ]
  },
  {
   "cell_type": "code",
   "execution_count": null,
   "id": "3320d4ca",
   "metadata": {},
   "outputs": [],
   "source": [
    "# Тесты Вашего решения, просто запустите ячейку\n",
    "\n",
    "test_1_04 = Test('1.04')\n",
    "print(test_1_04(new_iris_factor))"
   ]
  },
  {
   "cell_type": "markdown",
   "id": "9ff5e012",
   "metadata": {},
   "source": [
    "----"
   ]
  },
  {
   "cell_type": "markdown",
   "id": "c98fbc5b",
   "metadata": {},
   "source": [
    "---"
   ]
  },
  {
   "cell_type": "markdown",
   "id": "347dd5f5",
   "metadata": {},
   "source": [
    "<h5>Задание 5:</h5>\n",
    "\n",
    "Ссылка на степ:\n",
    "\n",
    "https://stepik.org/lesson/26186/step/6?unit=8128"
   ]
  },
  {
   "cell_type": "markdown",
   "id": "09b17e21",
   "metadata": {},
   "source": [
    "> Напишем функцию get_important_cases, которая принимает на вход dataframe с произвольным числом количественных переменных (гарантируется хотя бы две переменные). Функция должна возвращать dataframe с новой переменной - фактором important_cases.\n",
    "\n",
    "> Переменная  important_cases принимает значение Yes, если для данного наблюдения больше половины количественных переменных имеют значения больше среднего. В противном случае переменная important_cases принимает значение No.\n",
    "\n",
    "> Переменная  important_cases - фактор с двумя уровнями 0 - \"No\", 1  - \"Yes\".\n",
    "\n",
    "<b>Входные данные:\n",
    "\n",
    "- pandas DataFrame\n",
    "\n",
    "<b>Выходные данные:\n",
    "\n",
    " - список list значений новой переменной important_cases"
   ]
  },
  {
   "cell_type": "code",
   "execution_count": 40,
   "id": "912111a5",
   "metadata": {},
   "outputs": [],
   "source": [
    "# Ваш код Python для задания 5\n",
    "\n",
    "def get_important_cases(data:pd.DataFrame) -> list:\n",
    "    return list"
   ]
  },
  {
   "cell_type": "code",
   "execution_count": 41,
   "id": "45377764",
   "metadata": {},
   "outputs": [
    {
     "name": "stdout",
     "output_type": "stream",
     "text": [
      "Тест 1 не пройден\n",
      "{'a': (16, 17, 25, 20, 16), 'b': (21, 7, 23, 22, 17), 'c': (18, 16, 27, 18, 19)}\n",
      "Тесты задания 1.05 не пройдены\n"
     ]
    }
   ],
   "source": [
    "# Тесты Вашего решения, просто запустите ячейку\n",
    "\n",
    "test_1_05 = Test('1.05')\n",
    "print(test_1_05(get_important_cases))"
   ]
  },
  {
   "cell_type": "markdown",
   "id": "f34d9786",
   "metadata": {},
   "source": [
    "---"
   ]
  },
  {
   "cell_type": "markdown",
   "id": "0f4facd3",
   "metadata": {},
   "source": [
    "---"
   ]
  },
  {
   "cell_type": "markdown",
   "id": "465cc206",
   "metadata": {},
   "source": [
    "<h5>Задание 6:</h5>\n",
    "\n",
    "Ссылка на степ:\n",
    "\n",
    "https://stepik.org/lesson/26186/step/7?unit=8128"
   ]
  },
  {
   "cell_type": "markdown",
   "id": "8ee79ea2",
   "metadata": {},
   "source": [
    "> Напишите функцию stat_mode, которая получает на вход вектор из чисел произвольной длины и возвращает числовой вектор с наиболее часто встречаемым значением. \n",
    "\n",
    "> Если наиболее часто встречаемых значений несколько, функция должна возвращать несколько значений моды  в виде числового вектора. \n",
    "\n",
    "\n",
    "<b>Входные данные:\n",
    "\n",
    "- pd.DataFrame\n",
    "\n",
    "<b>Выходные данные:\n",
    "\n",
    " - list"
   ]
  },
  {
   "cell_type": "code",
   "execution_count": 42,
   "id": "ebf4d108",
   "metadata": {},
   "outputs": [],
   "source": [
    "# Ваш код Python для задания 6\n",
    "\n",
    "def stat_mode(data: pd.DataFrame) -> list:\n",
    "    '''Тут ваш код Python для задания 6'''\n",
    "    return list"
   ]
  },
  {
   "cell_type": "code",
   "execution_count": 43,
   "id": "3b91e86d",
   "metadata": {},
   "outputs": [
    {
     "name": "stdout",
     "output_type": "stream",
     "text": [
      "Тест 1 не пройден\n",
      "{0: (1, 2, 3, 4, 4, 4, 5, 5)}\n",
      "Тесты задания 1.06 не пройдены\n"
     ]
    }
   ],
   "source": [
    "# Тесты Вашего решения, просто запустите ячейку\n",
    "\n",
    "test_1_06 = Test('1.06')\n",
    "print(test_1_06(stat_mode))"
   ]
  },
  {
   "cell_type": "markdown",
   "id": "f860dd9d",
   "metadata": {},
   "source": [
    "-----"
   ]
  },
  {
   "cell_type": "markdown",
   "id": "2a226dba",
   "metadata": {},
   "source": [
    "---"
   ]
  },
  {
   "cell_type": "markdown",
   "id": "2d94f5c4",
   "metadata": {},
   "source": [
    "<h5>Задание 7:</h5>\n",
    "\n",
    "Ссылка на степ:\n",
    "\n",
    "https://stepik.org/lesson/26186/step/8?unit=8128"
   ]
  },
  {
   "cell_type": "markdown",
   "id": "0e7f464d",
   "metadata": {},
   "source": [
    "Напишите функцию max_resid, которая получает на вход dataframe с двумя переменными: типом лекарства и результатом его применения.\n",
    "\n",
    " - Drugs - фактор с тремя градациями: drug_1, drug_2, drug_3.\n",
    "\n",
    " - Result - фактор с двумя градациями: positive, negative.\n",
    "\n",
    "> Функция должна находить ячейку таблицы сопряженности с максимальным значением стандартизированного остатка (Пирсона) и возвращать вектор из двух элементов: название строчки и столбца этой ячейки.\n",
    "\n",
    "<h5>Внимание:</h5>\n",
    "\n",
    "Стандартизированный остаток (скорректированный остаток) Пирсона вычисляется по формуле:\n",
    "\n",
    "<h2>$R_{std} = \\frac{Ob - Ex}{\\sqrt[2]{Ob (1 - \\frac{S_{row}}{N}) (1 - \\frac{S_{col}}{N})}}$</h2>\n",
    "\n",
    "$Ob$ - наблюдаемая частота\n",
    "\n",
    "$Ex$ - ожидаемая частота\n",
    "\n",
    "$S_{row}$ - сумма частот строки значения в таблице сопряженности\n",
    "\n",
    "$S_{col}$ - сумма частот колонки значения в таблице сопряженности\n",
    "\n",
    "$N$ - сумма всех частот\n",
    "\n",
    "Именно этот остаток проверяет тестирующая система, и именно его требуется подсчитать для корректного вывода.\n",
    "\n",
    "\n",
    "<b>Входные данные:</b>\n",
    "\n",
    "- pandas DataFrame с 2мя свойставми\n",
    "\n",
    "<b>Выходные данные:</b>\n",
    "\n",
    " - list (список с названием строчки и столбца ячейки с максимальным значением скорректированного остатка Пирсона)"
   ]
  },
  {
   "cell_type": "code",
   "execution_count": 15,
   "id": "70719ca9",
   "metadata": {},
   "outputs": [],
   "source": [
    "# Фрейм для тестов\n",
    "frame = pd.read_csv('https://stepic.org/media/attachments/course/524/test_drugs.csv')"
   ]
  },
  {
   "cell_type": "code",
   "execution_count": 44,
   "id": "ba86c531",
   "metadata": {},
   "outputs": [],
   "source": [
    "# Ваш код Python для задания 7\n",
    "\n",
    "def max_resid(data_in: pd.DataFrame) -> list:\n",
    "    '''Тут ваш код Python для задания 7'''\n",
    "    return list"
   ]
  },
  {
   "cell_type": "code",
   "execution_count": 45,
   "id": "63ccab2a",
   "metadata": {},
   "outputs": [
    {
     "name": "stdout",
     "output_type": "stream",
     "text": [
      "Тест 1 не пройден\n",
      "      Drugs    Result\n",
      "0    drug_3  positive\n",
      "1    drug_1  negative\n",
      "2    drug_1  negative\n",
      "3    drug_2  positive\n",
      "4    drug_1  negative\n",
      "..      ...       ...\n",
      "390  drug_3  positive\n",
      "391  drug_3  positive\n",
      "392  drug_2  negative\n",
      "393  drug_1  negative\n",
      "394  drug_2  negative\n",
      "\n",
      "[395 rows x 2 columns]\n",
      "Тесты задания 1.07 не пройдены\n"
     ]
    }
   ],
   "source": [
    "# Тесты Вашего решения, просто запустите ячейку\n",
    "\n",
    "test_1_07 = Test('1.07')\n",
    "print(test_1_07(max_resid))"
   ]
  },
  {
   "cell_type": "markdown",
   "id": "7216d742",
   "metadata": {},
   "source": [
    "-----"
   ]
  },
  {
   "cell_type": "markdown",
   "id": "675a6e15",
   "metadata": {},
   "source": [
    "---"
   ]
  },
  {
   "cell_type": "markdown",
   "id": "c9ea5876",
   "metadata": {},
   "source": [
    "<h5>Задание 8:</h5>\n",
    "\n",
    "Ссылка на степ:\n",
    "\n",
    "https://stepik.org/lesson/26186/step/9?unit=8128"
   ]
  },
  {
   "cell_type": "markdown",
   "id": "d403276d",
   "metadata": {},
   "source": [
    "> Используя библиотеку seaborn и датасет diamonds, постройте график распределения частот переменной color, на котором за цвет заполнения столбиков отвечает переменная cut.\n",
    "\n",
    "В итоге должен получиться вот такой вид графика.\n",
    "\n",
    "- Пропорции графика (10, 8)\n",
    "- Разделение групп: 'shrink' 0.8\n",
    "- цветовая схема стандартная seaborn\n",
    "\n",
    "> Ваша фукнция должна вернуть объект plot\n",
    "\n",
    "Тест сравнит ваш график с решением попиксельно с допустимой погрешностью (2%)\n",
    "Тесты будут проверять фукнцию - т.е. загрузят сет в фрейм и протестируют возвращенный объект графика."
   ]
  },
  {
   "cell_type": "markdown",
   "id": "b0e2db55",
   "metadata": {},
   "source": [
    "![Верный график](insert.png)"
   ]
  },
  {
   "cell_type": "code",
   "execution_count": 21,
   "id": "1031aa19",
   "metadata": {},
   "outputs": [
    {
     "data": {
      "text/html": [
       "<div>\n",
       "<style scoped>\n",
       "    .dataframe tbody tr th:only-of-type {\n",
       "        vertical-align: middle;\n",
       "    }\n",
       "\n",
       "    .dataframe tbody tr th {\n",
       "        vertical-align: top;\n",
       "    }\n",
       "\n",
       "    .dataframe thead th {\n",
       "        text-align: right;\n",
       "    }\n",
       "</style>\n",
       "<table border=\"1\" class=\"dataframe\">\n",
       "  <thead>\n",
       "    <tr style=\"text-align: right;\">\n",
       "      <th></th>\n",
       "      <th>carat</th>\n",
       "      <th>cut</th>\n",
       "      <th>color</th>\n",
       "      <th>clarity</th>\n",
       "      <th>depth</th>\n",
       "      <th>table</th>\n",
       "      <th>price</th>\n",
       "      <th>x</th>\n",
       "      <th>y</th>\n",
       "      <th>z</th>\n",
       "    </tr>\n",
       "  </thead>\n",
       "  <tbody>\n",
       "    <tr>\n",
       "      <th>1</th>\n",
       "      <td>0.23</td>\n",
       "      <td>Ideal</td>\n",
       "      <td>E</td>\n",
       "      <td>SI2</td>\n",
       "      <td>61.5</td>\n",
       "      <td>55.0</td>\n",
       "      <td>326</td>\n",
       "      <td>3.95</td>\n",
       "      <td>3.98</td>\n",
       "      <td>2.43</td>\n",
       "    </tr>\n",
       "    <tr>\n",
       "      <th>2</th>\n",
       "      <td>0.21</td>\n",
       "      <td>Premium</td>\n",
       "      <td>E</td>\n",
       "      <td>SI1</td>\n",
       "      <td>59.8</td>\n",
       "      <td>61.0</td>\n",
       "      <td>326</td>\n",
       "      <td>3.89</td>\n",
       "      <td>3.84</td>\n",
       "      <td>2.31</td>\n",
       "    </tr>\n",
       "    <tr>\n",
       "      <th>3</th>\n",
       "      <td>0.23</td>\n",
       "      <td>Good</td>\n",
       "      <td>E</td>\n",
       "      <td>VS1</td>\n",
       "      <td>56.9</td>\n",
       "      <td>65.0</td>\n",
       "      <td>327</td>\n",
       "      <td>4.05</td>\n",
       "      <td>4.07</td>\n",
       "      <td>2.31</td>\n",
       "    </tr>\n",
       "    <tr>\n",
       "      <th>4</th>\n",
       "      <td>0.29</td>\n",
       "      <td>Premium</td>\n",
       "      <td>I</td>\n",
       "      <td>VS2</td>\n",
       "      <td>62.4</td>\n",
       "      <td>58.0</td>\n",
       "      <td>334</td>\n",
       "      <td>4.20</td>\n",
       "      <td>4.23</td>\n",
       "      <td>2.63</td>\n",
       "    </tr>\n",
       "    <tr>\n",
       "      <th>5</th>\n",
       "      <td>0.31</td>\n",
       "      <td>Good</td>\n",
       "      <td>J</td>\n",
       "      <td>SI2</td>\n",
       "      <td>63.3</td>\n",
       "      <td>58.0</td>\n",
       "      <td>335</td>\n",
       "      <td>4.34</td>\n",
       "      <td>4.35</td>\n",
       "      <td>2.75</td>\n",
       "    </tr>\n",
       "  </tbody>\n",
       "</table>\n",
       "</div>"
      ],
      "text/plain": [
       "   carat      cut color clarity  depth  table  price     x     y     z\n",
       "1   0.23    Ideal     E     SI2   61.5   55.0    326  3.95  3.98  2.43\n",
       "2   0.21  Premium     E     SI1   59.8   61.0    326  3.89  3.84  2.31\n",
       "3   0.23     Good     E     VS1   56.9   65.0    327  4.05  4.07  2.31\n",
       "4   0.29  Premium     I     VS2   62.4   58.0    334  4.20  4.23  2.63\n",
       "5   0.31     Good     J     SI2   63.3   58.0    335  4.34  4.35  2.75"
      ]
     },
     "execution_count": 21,
     "metadata": {},
     "output_type": "execute_result"
    }
   ],
   "source": [
    "# Загрузка данных для удобства написания функции, тест сам загружает данные\n",
    "\n",
    "diamonds = pd.read_csv('diamonds.csv', index_col=0)\n",
    "diamonds.head()"
   ]
  },
  {
   "cell_type": "code",
   "execution_count": 52,
   "id": "32c9c84c",
   "metadata": {},
   "outputs": [],
   "source": [
    "def image_foo(data:pd.DataFrame = diamonds): \n",
    "    '''ваш код Python, data = сет для обработки'''\n",
    "    return plt.figure(figsize=(10, 8))"
   ]
  },
  {
   "cell_type": "code",
   "execution_count": 53,
   "id": "0cc4a508",
   "metadata": {},
   "outputs": [
    {
     "name": "stdout",
     "output_type": "stream",
     "text": [
      "Картинки разные, количество разных пикселей 245384\n",
      "Тесты задания 1.08 не пройдены\n"
     ]
    },
    {
     "data": {
      "image/png": "[encoded data removed]",
      "text/plain": [
       "<Figure size 720x576 with 1 Axes>"
      ]
     },
     "metadata": {
      "needs_background": "light"
     },
     "output_type": "display_data"
    },
    {
     "data": {
      "text/plain": [
       "<Figure size 720x576 with 0 Axes>"
      ]
     },
     "metadata": {},
     "output_type": "display_data"
    }
   ],
   "source": [
    "# Тесты Вашего решения, просто запустите ячейку\n",
    "\n",
    "test_1_08 = Test('1.08')\n",
    "print(test_1_08(image_foo))"
   ]
  },
  {
   "cell_type": "markdown",
   "id": "2228dadc",
   "metadata": {},
   "source": [
    "--------"
   ]
  },
  {
   "cell_type": "markdown",
   "id": "72e0eb6d",
   "metadata": {},
   "source": [
    "-----"
   ]
  }
 ],
 "metadata": {
  "kernelspec": {
   "display_name": "Python 3 (ipykernel)",
   "language": "python",
   "name": "python3"
  },
  "language_info": {
   "codemirror_mode": {
    "name": "ipython",
    "version": 3
   },
   "file_extension": ".py",
   "mimetype": "text/x-python",
   "name": "python",
   "nbconvert_exporter": "python",
   "pygments_lexer": "ipython3",
   "version": "3.9.12"
  }
 },
 "nbformat": 4,
 "nbformat_minor": 5
}
